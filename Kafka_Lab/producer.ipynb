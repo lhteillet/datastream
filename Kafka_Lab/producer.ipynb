{
 "cells": [
  {
   "cell_type": "code",
   "execution_count": 1,
   "metadata": {},
   "outputs": [
    {
     "name": "stdout",
     "output_type": "stream",
     "text": [
      "Collecting kafka-python\n",
      "  Downloading kafka_python-2.0.2-py2.py3-none-any.whl (246 kB)\n",
      "\u001b[K     |████████████████████████████████| 246 kB 1.0 MB/s eta 0:00:01\n",
      "\u001b[?25hInstalling collected packages: kafka-python\n",
      "Successfully installed kafka-python-2.0.2\n"
     ]
    }
   ],
   "source": [
    "! pip install kafka-python"
   ]
  },
  {
   "cell_type": "code",
   "execution_count": 4,
   "metadata": {},
   "outputs": [
    {
     "name": "stdout",
     "output_type": "stream",
     "text": [
      "Sending message message-0 to topic: topic1\n",
      "Sending message message-1 to topic: topic1\n",
      "Sending message message-2 to topic: topic1\n",
      "Sending message message-3 to topic: topic1\n",
      "Sending message message-4 to topic: topic1\n",
      "Sending message message-5 to topic: topic1\n",
      "Sending message message-6 to topic: topic1\n",
      "Sending message message-7 to topic: topic1\n",
      "Sending message message-8 to topic: topic1\n",
      "Sending message message-9 to topic: topic1\n",
      "Sending message message-10 to topic: topic1\n",
      "Sending message message-11 to topic: topic1\n",
      "Sending message message-12 to topic: topic1\n",
      "Sending message message-13 to topic: topic1\n",
      "Sending message message-14 to topic: topic1\n",
      "Sending message message-15 to topic: topic1\n",
      "Sending message message-16 to topic: topic1\n",
      "Sending message message-17 to topic: topic1\n",
      "Sending message message-18 to topic: topic1\n",
      "Sending message message-19 to topic: topic1\n",
      "Sending message message-20 to topic: topic1\n",
      "Sending message message-21 to topic: topic1\n",
      "Sending message message-22 to topic: topic1\n",
      "Sending message message-23 to topic: topic1\n",
      "Sending message message-24 to topic: topic1\n",
      "Sending message message-25 to topic: topic1\n",
      "Sending message message-26 to topic: topic1\n",
      "Sending message message-27 to topic: topic1\n",
      "Sending message message-28 to topic: topic1\n",
      "Sending message message-29 to topic: topic1\n",
      "Sending message message-30 to topic: topic1\n",
      "Sending message message-31 to topic: topic1\n",
      "Sending message message-32 to topic: topic1\n",
      "Sending message message-33 to topic: topic1\n",
      "Sending message message-34 to topic: topic1\n",
      "Sending message message-35 to topic: topic1\n",
      "Sending message message-36 to topic: topic1\n",
      "Sending message message-37 to topic: topic1\n",
      "Sending message message-38 to topic: topic1\n",
      "Sending message message-39 to topic: topic1\n",
      "Sending message message-40 to topic: topic1\n",
      "Sending message message-41 to topic: topic1\n",
      "Sending message message-42 to topic: topic1\n",
      "Sending message message-43 to topic: topic1\n",
      "Sending message message-44 to topic: topic1\n",
      "Sending message message-45 to topic: topic1\n"
     ]
    },
    {
     "ename": "KeyboardInterrupt",
     "evalue": "",
     "output_type": "error",
     "traceback": [
      "\u001b[0;31m---------------------------------------------------------------------------\u001b[0m",
      "\u001b[0;31mKeyboardInterrupt\u001b[0m                         Traceback (most recent call last)",
      "\u001b[1;32m/Users/louisteillet/Documents/Institut Polytechnique/Cours/Data Stream/lab_kafka/kafka_python.ipynb Cellule 2\u001b[0m line \u001b[0;36m<cell line: 9>\u001b[0;34m()\u001b[0m\n\u001b[1;32m     <a href='vscode-notebook-cell:/Users/louisteillet/Documents/Institut%20Polytechnique/Cours/Data%20Stream/lab_kafka/kafka_python.ipynb#W1sZmlsZQ%3D%3D?line=10'>11</a>\u001b[0m \u001b[39mprint\u001b[39m(\u001b[39m\"\u001b[39m\u001b[39mSending message \u001b[39m\u001b[39m{}\u001b[39;00m\u001b[39m to topic: \u001b[39m\u001b[39m{}\u001b[39;00m\u001b[39m\"\u001b[39m\u001b[39m.\u001b[39mformat(message, topic_name))\n\u001b[1;32m     <a href='vscode-notebook-cell:/Users/louisteillet/Documents/Institut%20Polytechnique/Cours/Data%20Stream/lab_kafka/kafka_python.ipynb#W1sZmlsZQ%3D%3D?line=11'>12</a>\u001b[0m i \u001b[39m+\u001b[39m\u001b[39m=\u001b[39m \u001b[39m1\u001b[39m\n\u001b[0;32m---> <a href='vscode-notebook-cell:/Users/louisteillet/Documents/Institut%20Polytechnique/Cours/Data%20Stream/lab_kafka/kafka_python.ipynb#W1sZmlsZQ%3D%3D?line=12'>13</a>\u001b[0m time\u001b[39m.\u001b[39;49msleep(\u001b[39m1\u001b[39;49m)\n",
      "\u001b[0;31mKeyboardInterrupt\u001b[0m: "
     ]
    }
   ],
   "source": [
    "import time\n",
    "from kafka import KafkaProducer\n",
    "producer = KafkaProducer(bootstrap_servers=\"localhost:9092\"\n",
    ",\n",
    "value_serializer=str.encode)\n",
    "i = 0\n",
    "topic_name = \"topic1\"\n",
    "while True:\n",
    "    message = \"message-{}\".format(i)\n",
    "    producer.send(topic_name, message)\n",
    "    print(\"Sending message {} to topic: {}\".format(message, topic_name))\n",
    "    i += 1\n",
    "    time.sleep(1)"
   ]
  },
  {
   "cell_type": "code",
   "execution_count": null,
   "metadata": {},
   "outputs": [],
   "source": []
  }
 ],
 "metadata": {
  "kernelspec": {
   "display_name": "base",
   "language": "python",
   "name": "python3"
  },
  "language_info": {
   "codemirror_mode": {
    "name": "ipython",
    "version": 3
   },
   "file_extension": ".py",
   "mimetype": "text/x-python",
   "name": "python",
   "nbconvert_exporter": "python",
   "pygments_lexer": "ipython3",
   "version": "3.9.12"
  }
 },
 "nbformat": 4,
 "nbformat_minor": 2
}
