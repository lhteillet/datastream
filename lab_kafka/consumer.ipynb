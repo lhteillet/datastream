{
 "cells": [
  {
   "cell_type": "code",
   "execution_count": 1,
   "metadata": {},
   "outputs": [
    {
     "name": "stdout",
     "output_type": "stream",
     "text": [
      "Received message : b'message-2' from topic : topic1, partition: 0, offset: 2\n",
      "Received message : b'message-3' from topic : topic1, partition: 0, offset: 3\n",
      "Received message : b'message-4' from topic : topic1, partition: 0, offset: 4\n",
      "Received message : b'message-6' from topic : topic1, partition: 0, offset: 5\n",
      "Received message : b'message-7' from topic : topic1, partition: 0, offset: 6\n",
      "Received message : b'message-10' from topic : topic1, partition: 0, offset: 7\n",
      "Received message : b'message-17' from topic : topic1, partition: 0, offset: 8\n",
      "Received message : b'message-18' from topic : topic1, partition: 0, offset: 9\n",
      "Received message : b'message-21' from topic : topic1, partition: 0, offset: 10\n",
      "Received message : b'message-22' from topic : topic1, partition: 0, offset: 11\n",
      "Received message : b'message-29' from topic : topic1, partition: 0, offset: 12\n",
      "Received message : b'message-30' from topic : topic1, partition: 0, offset: 13\n",
      "Received message : b'message-31' from topic : topic1, partition: 0, offset: 14\n",
      "Received message : b'message-34' from topic : topic1, partition: 0, offset: 15\n",
      "Received message : b'message-38' from topic : topic1, partition: 0, offset: 16\n",
      "Received message : b'message-42' from topic : topic1, partition: 0, offset: 17\n",
      "Received message : b'message-43' from topic : topic1, partition: 0, offset: 18\n",
      "Received message : b'message-5' from topic : topic1, partition: 2, offset: 4\n",
      "Received message : b'message-9' from topic : topic1, partition: 2, offset: 5\n",
      "Received message : b'message-11' from topic : topic1, partition: 2, offset: 6\n",
      "Received message : b'message-16' from topic : topic1, partition: 2, offset: 7\n",
      "Received message : b'message-19' from topic : topic1, partition: 2, offset: 8\n",
      "Received message : b'message-20' from topic : topic1, partition: 2, offset: 9\n",
      "Received message : b'message-25' from topic : topic1, partition: 2, offset: 10\n",
      "Received message : b'message-26' from topic : topic1, partition: 2, offset: 11\n",
      "Received message : b'message-32' from topic : topic1, partition: 2, offset: 12\n",
      "Received message : b'message-36' from topic : topic1, partition: 2, offset: 13\n",
      "Received message : b'message-39' from topic : topic1, partition: 2, offset: 14\n",
      "Received message : b'message-41' from topic : topic1, partition: 2, offset: 15\n",
      "Received message : b'message-45' from topic : topic1, partition: 2, offset: 16\n",
      "Received message : b'cinquieme event' from topic : topic1, partition: 1, offset: 2\n",
      "Received message : b'message-0' from topic : topic1, partition: 1, offset: 3\n",
      "Received message : b'message-1' from topic : topic1, partition: 1, offset: 4\n",
      "Received message : b'message-8' from topic : topic1, partition: 1, offset: 5\n",
      "Received message : b'message-12' from topic : topic1, partition: 1, offset: 6\n",
      "Received message : b'message-13' from topic : topic1, partition: 1, offset: 7\n",
      "Received message : b'message-14' from topic : topic1, partition: 1, offset: 8\n",
      "Received message : b'message-15' from topic : topic1, partition: 1, offset: 9\n",
      "Received message : b'message-23' from topic : topic1, partition: 1, offset: 10\n",
      "Received message : b'message-24' from topic : topic1, partition: 1, offset: 11\n",
      "Received message : b'message-27' from topic : topic1, partition: 1, offset: 12\n",
      "Received message : b'message-28' from topic : topic1, partition: 1, offset: 13\n",
      "Received message : b'message-33' from topic : topic1, partition: 1, offset: 14\n",
      "Received message : b'message-35' from topic : topic1, partition: 1, offset: 15\n",
      "Received message : b'message-37' from topic : topic1, partition: 1, offset: 16\n",
      "Received message : b'message-40' from topic : topic1, partition: 1, offset: 17\n",
      "Received message : b'message-44' from topic : topic1, partition: 1, offset: 18\n"
     ]
    },
    {
     "ename": "KeyboardInterrupt",
     "evalue": "",
     "output_type": "error",
     "traceback": [
      "\u001b[0;31m---------------------------------------------------------------------------\u001b[0m",
      "\u001b[0;31mKeyboardInterrupt\u001b[0m                         Traceback (most recent call last)",
      "\u001b[1;32m/Users/louisteillet/Documents/Institut Polytechnique/Cours/Data Stream/lab_kafka/consumer.ipynb Cellule 1\u001b[0m line \u001b[0;36m<cell line: 5>\u001b[0;34m()\u001b[0m\n\u001b[1;32m      <a href='vscode-notebook-cell:/Users/louisteillet/Documents/Institut%20Polytechnique/Cours/Data%20Stream/lab_kafka/consumer.ipynb#W0sZmlsZQ%3D%3D?line=2'>3</a>\u001b[0m topic_name \u001b[39m=\u001b[39m \u001b[39m\"\u001b[39m\u001b[39mtopic1\u001b[39m\u001b[39m\"\u001b[39m\n\u001b[1;32m      <a href='vscode-notebook-cell:/Users/louisteillet/Documents/Institut%20Polytechnique/Cours/Data%20Stream/lab_kafka/consumer.ipynb#W0sZmlsZQ%3D%3D?line=3'>4</a>\u001b[0m consumer \u001b[39m=\u001b[39m KafkaConsumer(topic_name, bootstrap_servers\u001b[39m=\u001b[39m\u001b[39m\"\u001b[39m\u001b[39mlocalhost:9092\u001b[39m\u001b[39m\"\u001b[39m, group_id\u001b[39m=\u001b[39m\u001b[39m\"\u001b[39m\u001b[39mapp1\u001b[39m\u001b[39m\"\u001b[39m)\n\u001b[0;32m----> <a href='vscode-notebook-cell:/Users/louisteillet/Documents/Institut%20Polytechnique/Cours/Data%20Stream/lab_kafka/consumer.ipynb#W0sZmlsZQ%3D%3D?line=4'>5</a>\u001b[0m \u001b[39mfor\u001b[39;00m message \u001b[39min\u001b[39;00m consumer:\n\u001b[1;32m      <a href='vscode-notebook-cell:/Users/louisteillet/Documents/Institut%20Polytechnique/Cours/Data%20Stream/lab_kafka/consumer.ipynb#W0sZmlsZQ%3D%3D?line=5'>6</a>\u001b[0m     \u001b[39mprint\u001b[39m(\u001b[39m\"\u001b[39m\u001b[39mReceived message : \u001b[39m\u001b[39m{}\u001b[39;00m\u001b[39m from topic : \u001b[39m\u001b[39m{}\u001b[39;00m\u001b[39m, partition: \u001b[39m\u001b[39m{}\u001b[39;00m\u001b[39m, offset: \u001b[39m\u001b[39m{}\u001b[39;00m\u001b[39m\"\u001b[39m\u001b[39m.\u001b[39mformat(message\u001b[39m.\u001b[39mvalue,\n\u001b[1;32m      <a href='vscode-notebook-cell:/Users/louisteillet/Documents/Institut%20Polytechnique/Cours/Data%20Stream/lab_kafka/consumer.ipynb#W0sZmlsZQ%3D%3D?line=6'>7</a>\u001b[0m     message\u001b[39m.\u001b[39mtopic, message\u001b[39m.\u001b[39mpartition, message\u001b[39m.\u001b[39moffset))\n\u001b[1;32m      <a href='vscode-notebook-cell:/Users/louisteillet/Documents/Institut%20Polytechnique/Cours/Data%20Stream/lab_kafka/consumer.ipynb#W0sZmlsZQ%3D%3D?line=7'>8</a>\u001b[0m     time\u001b[39m.\u001b[39msleep(\u001b[39m1\u001b[39m)\n",
      "File \u001b[0;32m/opt/anaconda3/lib/python3.9/site-packages/kafka/consumer/group.py:1193\u001b[0m, in \u001b[0;36mKafkaConsumer.__next__\u001b[0;34m(self)\u001b[0m\n\u001b[1;32m   1191\u001b[0m     \u001b[39mreturn\u001b[39;00m \u001b[39mself\u001b[39m\u001b[39m.\u001b[39mnext_v1()\n\u001b[1;32m   1192\u001b[0m \u001b[39melse\u001b[39;00m:\n\u001b[0;32m-> 1193\u001b[0m     \u001b[39mreturn\u001b[39;00m \u001b[39mself\u001b[39;49m\u001b[39m.\u001b[39;49mnext_v2()\n",
      "File \u001b[0;32m/opt/anaconda3/lib/python3.9/site-packages/kafka/consumer/group.py:1201\u001b[0m, in \u001b[0;36mKafkaConsumer.next_v2\u001b[0;34m(self)\u001b[0m\n\u001b[1;32m   1199\u001b[0m     \u001b[39mself\u001b[39m\u001b[39m.\u001b[39m_iterator \u001b[39m=\u001b[39m \u001b[39mself\u001b[39m\u001b[39m.\u001b[39m_message_generator_v2()\n\u001b[1;32m   1200\u001b[0m \u001b[39mtry\u001b[39;00m:\n\u001b[0;32m-> 1201\u001b[0m     \u001b[39mreturn\u001b[39;00m \u001b[39mnext\u001b[39;49m(\u001b[39mself\u001b[39;49m\u001b[39m.\u001b[39;49m_iterator)\n\u001b[1;32m   1202\u001b[0m \u001b[39mexcept\u001b[39;00m \u001b[39mStopIteration\u001b[39;00m:\n\u001b[1;32m   1203\u001b[0m     \u001b[39mself\u001b[39m\u001b[39m.\u001b[39m_iterator \u001b[39m=\u001b[39m \u001b[39mNone\u001b[39;00m\n",
      "File \u001b[0;32m/opt/anaconda3/lib/python3.9/site-packages/kafka/consumer/group.py:1116\u001b[0m, in \u001b[0;36mKafkaConsumer._message_generator_v2\u001b[0;34m(self)\u001b[0m\n\u001b[1;32m   1114\u001b[0m \u001b[39mdef\u001b[39;00m \u001b[39m_message_generator_v2\u001b[39m(\u001b[39mself\u001b[39m):\n\u001b[1;32m   1115\u001b[0m     timeout_ms \u001b[39m=\u001b[39m \u001b[39m1000\u001b[39m \u001b[39m*\u001b[39m (\u001b[39mself\u001b[39m\u001b[39m.\u001b[39m_consumer_timeout \u001b[39m-\u001b[39m time\u001b[39m.\u001b[39mtime())\n\u001b[0;32m-> 1116\u001b[0m     record_map \u001b[39m=\u001b[39m \u001b[39mself\u001b[39;49m\u001b[39m.\u001b[39;49mpoll(timeout_ms\u001b[39m=\u001b[39;49mtimeout_ms, update_offsets\u001b[39m=\u001b[39;49m\u001b[39mFalse\u001b[39;49;00m)\n\u001b[1;32m   1117\u001b[0m     \u001b[39mfor\u001b[39;00m tp, records \u001b[39min\u001b[39;00m six\u001b[39m.\u001b[39miteritems(record_map):\n\u001b[1;32m   1118\u001b[0m         \u001b[39m# Generators are stateful, and it is possible that the tp / records\u001b[39;00m\n\u001b[1;32m   1119\u001b[0m         \u001b[39m# here may become stale during iteration -- i.e., we seek to a\u001b[39;00m\n\u001b[1;32m   1120\u001b[0m         \u001b[39m# different offset, pause consumption, or lose assignment.\u001b[39;00m\n\u001b[1;32m   1121\u001b[0m         \u001b[39mfor\u001b[39;00m record \u001b[39min\u001b[39;00m records:\n\u001b[1;32m   1122\u001b[0m             \u001b[39m# is_fetchable(tp) should handle assignment changes and offset\u001b[39;00m\n\u001b[1;32m   1123\u001b[0m             \u001b[39m# resets; for all other changes (e.g., seeks) we'll rely on the\u001b[39;00m\n\u001b[1;32m   1124\u001b[0m             \u001b[39m# outer function destroying the existing iterator/generator\u001b[39;00m\n\u001b[1;32m   1125\u001b[0m             \u001b[39m# via self._iterator = None\u001b[39;00m\n",
      "File \u001b[0;32m/opt/anaconda3/lib/python3.9/site-packages/kafka/consumer/group.py:655\u001b[0m, in \u001b[0;36mKafkaConsumer.poll\u001b[0;34m(self, timeout_ms, max_records, update_offsets)\u001b[0m\n\u001b[1;32m    653\u001b[0m remaining \u001b[39m=\u001b[39m timeout_ms\n\u001b[1;32m    654\u001b[0m \u001b[39mwhile\u001b[39;00m \u001b[39mTrue\u001b[39;00m:\n\u001b[0;32m--> 655\u001b[0m     records \u001b[39m=\u001b[39m \u001b[39mself\u001b[39;49m\u001b[39m.\u001b[39;49m_poll_once(remaining, max_records, update_offsets\u001b[39m=\u001b[39;49mupdate_offsets)\n\u001b[1;32m    656\u001b[0m     \u001b[39mif\u001b[39;00m records:\n\u001b[1;32m    657\u001b[0m         \u001b[39mreturn\u001b[39;00m records\n",
      "File \u001b[0;32m/opt/anaconda3/lib/python3.9/site-packages/kafka/consumer/group.py:702\u001b[0m, in \u001b[0;36mKafkaConsumer._poll_once\u001b[0;34m(self, timeout_ms, max_records, update_offsets)\u001b[0m\n\u001b[1;32m    699\u001b[0m     \u001b[39mself\u001b[39m\u001b[39m.\u001b[39m_client\u001b[39m.\u001b[39mpoll(timeout_ms\u001b[39m=\u001b[39m\u001b[39m0\u001b[39m)\n\u001b[1;32m    701\u001b[0m timeout_ms \u001b[39m=\u001b[39m \u001b[39mmin\u001b[39m(timeout_ms, \u001b[39mself\u001b[39m\u001b[39m.\u001b[39m_coordinator\u001b[39m.\u001b[39mtime_to_next_poll() \u001b[39m*\u001b[39m \u001b[39m1000\u001b[39m)\n\u001b[0;32m--> 702\u001b[0m \u001b[39mself\u001b[39;49m\u001b[39m.\u001b[39;49m_client\u001b[39m.\u001b[39;49mpoll(timeout_ms\u001b[39m=\u001b[39;49mtimeout_ms)\n\u001b[1;32m    703\u001b[0m \u001b[39m# after the long poll, we should check whether the group needs to rebalance\u001b[39;00m\n\u001b[1;32m    704\u001b[0m \u001b[39m# prior to returning data so that the group can stabilize faster\u001b[39;00m\n\u001b[1;32m    705\u001b[0m \u001b[39mif\u001b[39;00m \u001b[39mself\u001b[39m\u001b[39m.\u001b[39m_coordinator\u001b[39m.\u001b[39mneed_rejoin():\n",
      "File \u001b[0;32m/opt/anaconda3/lib/python3.9/site-packages/kafka/client_async.py:602\u001b[0m, in \u001b[0;36mKafkaClient.poll\u001b[0;34m(self, timeout_ms, future)\u001b[0m\n\u001b[1;32m    599\u001b[0m             timeout \u001b[39m=\u001b[39m \u001b[39mmin\u001b[39m(timeout, \u001b[39mself\u001b[39m\u001b[39m.\u001b[39mconfig[\u001b[39m'\u001b[39m\u001b[39mretry_backoff_ms\u001b[39m\u001b[39m'\u001b[39m])\n\u001b[1;32m    600\u001b[0m         timeout \u001b[39m=\u001b[39m \u001b[39mmax\u001b[39m(\u001b[39m0\u001b[39m, timeout)  \u001b[39m# avoid negative timeouts\u001b[39;00m\n\u001b[0;32m--> 602\u001b[0m     \u001b[39mself\u001b[39;49m\u001b[39m.\u001b[39;49m_poll(timeout \u001b[39m/\u001b[39;49m \u001b[39m1000\u001b[39;49m)\n\u001b[1;32m    604\u001b[0m \u001b[39m# called without the lock to avoid deadlock potential\u001b[39;00m\n\u001b[1;32m    605\u001b[0m \u001b[39m# if handlers need to acquire locks\u001b[39;00m\n\u001b[1;32m    606\u001b[0m responses\u001b[39m.\u001b[39mextend(\u001b[39mself\u001b[39m\u001b[39m.\u001b[39m_fire_pending_completed_requests())\n",
      "File \u001b[0;32m/opt/anaconda3/lib/python3.9/site-packages/kafka/client_async.py:634\u001b[0m, in \u001b[0;36mKafkaClient._poll\u001b[0;34m(self, timeout)\u001b[0m\n\u001b[1;32m    631\u001b[0m \u001b[39mself\u001b[39m\u001b[39m.\u001b[39m_register_send_sockets()\n\u001b[1;32m    633\u001b[0m start_select \u001b[39m=\u001b[39m time\u001b[39m.\u001b[39mtime()\n\u001b[0;32m--> 634\u001b[0m ready \u001b[39m=\u001b[39m \u001b[39mself\u001b[39;49m\u001b[39m.\u001b[39;49m_selector\u001b[39m.\u001b[39;49mselect(timeout)\n\u001b[1;32m    635\u001b[0m end_select \u001b[39m=\u001b[39m time\u001b[39m.\u001b[39mtime()\n\u001b[1;32m    636\u001b[0m \u001b[39mif\u001b[39;00m \u001b[39mself\u001b[39m\u001b[39m.\u001b[39m_sensors:\n",
      "File \u001b[0;32m/opt/anaconda3/lib/python3.9/selectors.py:562\u001b[0m, in \u001b[0;36mKqueueSelector.select\u001b[0;34m(self, timeout)\u001b[0m\n\u001b[1;32m    560\u001b[0m ready \u001b[39m=\u001b[39m []\n\u001b[1;32m    561\u001b[0m \u001b[39mtry\u001b[39;00m:\n\u001b[0;32m--> 562\u001b[0m     kev_list \u001b[39m=\u001b[39m \u001b[39mself\u001b[39;49m\u001b[39m.\u001b[39;49m_selector\u001b[39m.\u001b[39;49mcontrol(\u001b[39mNone\u001b[39;49;00m, max_ev, timeout)\n\u001b[1;32m    563\u001b[0m \u001b[39mexcept\u001b[39;00m \u001b[39mInterruptedError\u001b[39;00m:\n\u001b[1;32m    564\u001b[0m     \u001b[39mreturn\u001b[39;00m ready\n",
      "\u001b[0;31mKeyboardInterrupt\u001b[0m: "
     ]
    }
   ],
   "source": [
    "import time\n",
    "from kafka import KafkaConsumer\n",
    "topic_name = \"topic1\"\n",
    "consumer = KafkaConsumer(topic_name, bootstrap_servers=\"localhost:9092\", group_id=\"app1\")\n",
    "for message in consumer:\n",
    "    print(\"Received message : {} from topic : {}, partition: {}, offset: {}\".format(message.value,\n",
    "    message.topic, message.partition, message.offset))\n",
    "    time.sleep(1)"
   ]
  },
  {
   "cell_type": "code",
   "execution_count": null,
   "metadata": {},
   "outputs": [],
   "source": []
  }
 ],
 "metadata": {
  "kernelspec": {
   "display_name": "base",
   "language": "python",
   "name": "python3"
  },
  "language_info": {
   "codemirror_mode": {
    "name": "ipython",
    "version": 3
   },
   "file_extension": ".py",
   "mimetype": "text/x-python",
   "name": "python",
   "nbconvert_exporter": "python",
   "pygments_lexer": "ipython3",
   "version": "3.9.12"
  }
 },
 "nbformat": 4,
 "nbformat_minor": 2
}
